{
 "cells": [
  {
   "cell_type": "code",
   "execution_count": 2,
   "metadata": {},
   "outputs": [
    {
     "name": "stderr",
     "output_type": "stream",
     "text": [
      "C:\\Users\\jhroe\\AppData\\Local\\Temp\\ipykernel_6896\\592189382.py:7: DeprecationWarning: \n",
      "Pyarrow will become a required dependency of pandas in the next major release of pandas (pandas 3.0),\n",
      "(to allow more performant data types, such as the Arrow string type, and better interoperability with other libraries)\n",
      "but was not found to be installed on your system.\n",
      "If this would cause problems for you,\n",
      "please provide us feedback at https://github.com/pandas-dev/pandas/issues/54466\n",
      "        \n",
      "  import pandas as pd\n"
     ]
    }
   ],
   "source": [
    "import numpy as np\n",
    "import matplotlib.pyplot as plt\n",
    "from datetime import datetime\n",
    "import os \n",
    "from PIL import Image\n",
    "import matplotlib.pyplot as plt\n",
    "import pandas as pd\n",
    "\n"
   ]
  },
  {
   "cell_type": "code",
   "execution_count": 3,
   "metadata": {},
   "outputs": [],
   "source": [
    "\n",
    "data_path = os.getcwd() + '/Data/'\n",
    "output_path = f\"{data_path}/clinicaldata_plots/\"\n",
    "date = datetime.now().strftime(\"%Y%m%d\")\n",
    "\n",
    "# freq = pd.read_csv(\"freq_table/20240205_freqtable_sorin.csv\")\n",
    "# clinical data\n",
    "pi = pd.read_excel(f'{data_path}/raw/LUAD Clinical Data.xlsx')\n",
    "\n",
    "# raw celldata\n",
    "cd = pd.read_csv(f\"{data_path}/celldata/celldata_{date}.csv\")\n",
    "# cd = pd.read_csv('celldata/20240208_cell+patient_info.csv')\n",
    "\n",
    "# distances\n",
    "dists = pd.read_csv(f\"{data_path}/distances/cell_distances_25px_{date}_allpatients.csv\")\n",
    "\n",
    "# frequencies\n",
    "freqs = pd.read_csv(f\"{data_path}/frequencies/frequencies_25px_{date}.csv\")"
   ]
  }
 ],
 "metadata": {
  "kernelspec": {
   "display_name": "base",
   "language": "python",
   "name": "python3"
  },
  "language_info": {
   "codemirror_mode": {
    "name": "ipython",
    "version": 3
   },
   "file_extension": ".py",
   "mimetype": "text/x-python",
   "name": "python",
   "nbconvert_exporter": "python",
   "pygments_lexer": "ipython3",
   "version": "3.12.1"
  }
 },
 "nbformat": 4,
 "nbformat_minor": 2
}
