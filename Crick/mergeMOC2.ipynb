{
 "cells": [
  {
   "cell_type": "code",
   "execution_count": 1,
   "metadata": {},
   "outputs": [],
   "source": [
    "import pandas as pd\n",
    "import os \n",
    "from datetime import datetime "
   ]
  },
  {
   "cell_type": "code",
   "execution_count": 3,
   "metadata": {},
   "outputs": [],
   "source": [
    "cwd = os.getcwd()\n",
    "input_path = f\"{cwd}/Data/frequencies/\"\n",
    "\n",
    "output_path = f\"{cwd}/Data/frequencies/\"\n",
    "\n",
    "groups = ['MOC2_CCR2KO', 'MOC2_WT']\n",
    "\n",
    "date = datetime.now().strftime(\"%Y%m%d\")\n",
    "\n",
    "dfs = {}\n",
    "    # celldata = pd.read_csv(f\"{input_path}{group}_celldata_{date}.csv\")\n",
    "KO = pd.read_csv(f\"{input_path}freqs_{groups[0]}_25px_20240307.csv\")\n",
    "WT = pd.read_csv(f\"{input_path}freqs_{groups[1]}_25px_20240307.csv\")\n"
   ]
  }
 ],
 "metadata": {
  "kernelspec": {
   "display_name": "base",
   "language": "python",
   "name": "python3"
  },
  "language_info": {
   "codemirror_mode": {
    "name": "ipython",
    "version": 3
   },
   "file_extension": ".py",
   "mimetype": "text/x-python",
   "name": "python",
   "nbconvert_exporter": "python",
   "pygments_lexer": "ipython3",
   "version": "3.11.5"
  }
 },
 "nbformat": 4,
 "nbformat_minor": 2
}
